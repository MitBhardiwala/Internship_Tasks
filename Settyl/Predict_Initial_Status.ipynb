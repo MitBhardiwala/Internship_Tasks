{
 "cells": [
  {
   "cell_type": "code",
   "execution_count": 1,
   "id": "06a92880",
   "metadata": {},
   "outputs": [],
   "source": [
    "import pandas as pd\n",
    "from tensorflow import keras\n",
    "from tensorflow.keras import layers\n",
    "from sklearn.model_selection import train_test_split\n",
    "from tensorflow.keras.models import Sequential\n",
    "from tensorflow.keras.layers import Embedding, GlobalAveragePooling1D, Dense\n",
    "from sklearn.model_selection import GridSearchCV\n",
    "from sklearn.preprocessing import LabelEncoder\n"
   ]
  },
  {
   "cell_type": "code",
   "execution_count": 2,
   "id": "1de6bd84",
   "metadata": {},
   "outputs": [],
   "source": [
    "# filepath to your JSON file\n",
    "filepath = \"dataset.json\"\n",
    "\n",
    "# Read the JSON data into a DataFrame\n",
    "df = pd.read_json(filepath)"
   ]
  },
  {
   "cell_type": "code",
   "execution_count": 3,
   "id": "e149b2f8",
   "metadata": {},
   "outputs": [
    {
     "data": {
      "text/plain": [
       "(1222, 2)"
      ]
     },
     "execution_count": 3,
     "metadata": {},
     "output_type": "execute_result"
    }
   ],
   "source": [
    "df.shape"
   ]
  },
  {
   "cell_type": "code",
   "execution_count": 3,
   "id": "c52391d3",
   "metadata": {},
   "outputs": [
    {
     "name": "stdout",
     "output_type": "stream",
     "text": [
      "108\n",
      "15\n"
     ]
    }
   ],
   "source": [
    "print(len(df['externalStatus'].unique()))\n",
    "print(len(df['internalStatus'].unique()))"
   ]
  },
  {
   "cell_type": "code",
   "execution_count": 4,
   "id": "6d81e095",
   "metadata": {},
   "outputs": [
    {
     "data": {
      "text/plain": [
       "array(['Port Out', 'Inbound Terminal', 'Port In', 'Departure', 'Arrival',\n",
       "       'Gate In', 'Loaded on Vessel', 'Gate Out', 'On Rail', 'Off Rail',\n",
       "       'Empty Return', 'In-transit', 'Outbound Terminal',\n",
       "       'Empty Container Released', 'Unloaded on Vessel'], dtype=object)"
      ]
     },
     "execution_count": 4,
     "metadata": {},
     "output_type": "execute_result"
    }
   ],
   "source": [
    "df['internalStatus'].unique()"
   ]
  },
  {
   "cell_type": "code",
   "execution_count": 5,
   "id": "7a738f75",
   "metadata": {},
   "outputs": [],
   "source": [
    "from tensorflow.keras.preprocessing.text import Tokenizer\n",
    "\n",
    "# Create a tokenizer for external status\n",
    "tokenizer = Tokenizer(num_words=1000, oov_token=\"<UNK>\")  # Adjust num_words as needed\n",
    "tokenizer.fit_on_texts(df['externalStatus'])\n",
    "external_status_sequences = tokenizer.texts_to_sequences(df['externalStatus'])\n",
    "max_length = max(len(seq) for seq in external_status_sequences)\n",
    "padded_sequences = keras.preprocessing.sequence.pad_sequences(external_status_sequences, maxlen=max_length, padding='post')\n"
   ]
  },
  {
   "cell_type": "code",
   "execution_count": 6,
   "id": "3b137cd3",
   "metadata": {},
   "outputs": [],
   "source": [
    "internal_status_encoded = pd.get_dummies(df['internalStatus'])"
   ]
  },
  {
   "cell_type": "code",
   "execution_count": 7,
   "id": "8314bc1b",
   "metadata": {},
   "outputs": [],
   "source": [
    "X_train, X_test, y_train, y_test = train_test_split(padded_sequences, internal_status_encoded, test_size=0.2, random_state=42)\n"
   ]
  },
  {
   "cell_type": "code",
   "execution_count": 8,
   "id": "9cb840ef",
   "metadata": {},
   "outputs": [],
   "source": [
    "model = keras.Sequential([\n",
    "    layers.Embedding(input_dim=tokenizer.num_words, output_dim=128, input_length=max_length),  # Adjust embedding dimensions as needed\n",
    "    layers.GlobalAveragePooling1D(),\n",
    "    layers.Dense(128, activation='relu'),  # Adjust hidden layer size and activation as needed\n",
    "    layers.Dense(15, activation='softmax')  # Output layer with 15 units for 15 categories\n",
    "])"
   ]
  },
  {
   "cell_type": "code",
   "execution_count": 9,
   "id": "a04c2279",
   "metadata": {},
   "outputs": [
    {
     "name": "stdout",
     "output_type": "stream",
     "text": [
      "Epoch 1/10\n",
      "31/31 [==============================] - 1s 7ms/step - loss: 2.5534 - accuracy: 0.2825 - val_loss: 2.3604 - val_accuracy: 0.3592\n",
      "Epoch 2/10\n",
      "31/31 [==============================] - 0s 2ms/step - loss: 2.0710 - accuracy: 0.4759 - val_loss: 2.0750 - val_accuracy: 0.4571\n",
      "Epoch 3/10\n",
      "31/31 [==============================] - 0s 2ms/step - loss: 1.7463 - accuracy: 0.5077 - val_loss: 1.7468 - val_accuracy: 0.4612\n",
      "Epoch 4/10\n",
      "31/31 [==============================] - 0s 2ms/step - loss: 1.4083 - accuracy: 0.5148 - val_loss: 1.4621 - val_accuracy: 0.6898\n",
      "Epoch 5/10\n",
      "31/31 [==============================] - 0s 2ms/step - loss: 1.1443 - accuracy: 0.7236 - val_loss: 1.2372 - val_accuracy: 0.7020\n",
      "Epoch 6/10\n",
      "31/31 [==============================] - 0s 2ms/step - loss: 0.9356 - accuracy: 0.7912 - val_loss: 1.0415 - val_accuracy: 0.7796\n",
      "Epoch 7/10\n",
      "31/31 [==============================] - 0s 2ms/step - loss: 0.7502 - accuracy: 0.8516 - val_loss: 0.8379 - val_accuracy: 0.8082\n",
      "Epoch 8/10\n",
      "31/31 [==============================] - 0s 2ms/step - loss: 0.5752 - accuracy: 0.8649 - val_loss: 0.6529 - val_accuracy: 0.8245\n",
      "Epoch 9/10\n",
      "31/31 [==============================] - 0s 2ms/step - loss: 0.4269 - accuracy: 0.8956 - val_loss: 0.5117 - val_accuracy: 0.8735\n",
      "Epoch 10/10\n",
      "31/31 [==============================] - 0s 2ms/step - loss: 0.3217 - accuracy: 0.9263 - val_loss: 0.4106 - val_accuracy: 0.9224\n"
     ]
    },
    {
     "data": {
      "text/plain": [
       "<keras.src.callbacks.History at 0x1d689789cd0>"
      ]
     },
     "execution_count": 9,
     "metadata": {},
     "output_type": "execute_result"
    }
   ],
   "source": [
    "model.compile(loss='categorical_crossentropy', optimizer='adam', metrics=['accuracy'])\n",
    "model.fit(X_train, y_train, epochs=10, batch_size=32, validation_data=(X_test, y_test)) "
   ]
  },
  {
   "cell_type": "code",
   "execution_count": 10,
   "id": "98fe9c58",
   "metadata": {},
   "outputs": [
    {
     "name": "stdout",
     "output_type": "stream",
     "text": [
      "8/8 [==============================] - 0s 1ms/step - loss: 0.4106 - accuracy: 0.9224\n",
      "Test accuracy: 0.922448992729187\n"
     ]
    }
   ],
   "source": [
    "loss, accuracy = model.evaluate(X_test, y_test)\n",
    "print('Test accuracy:', accuracy)"
   ]
  },
  {
   "cell_type": "code",
   "execution_count": 11,
   "id": "25c05c7c",
   "metadata": {},
   "outputs": [
    {
     "name": "stdout",
     "output_type": "stream",
     "text": [
      "1/1 [==============================] - 0s 70ms/step\n",
      "Predicted internal status: Departure\n"
     ]
    }
   ],
   "source": [
    "new_status = \"Discharge (Vessel name : COSCO INDONESIA)\"\n",
    "new_sequence = tokenizer.texts_to_sequences([new_status])[0]\n",
    "new_sequence = keras.preprocessing.sequence.pad_sequences([new_sequence], maxlen=max_length, padding='post')\n",
    "prediction = model.predict(new_sequence)\n",
    "predicted_class = internal_status_encoded.columns[prediction.argmax()] \n",
    "print('Predicted internal status:', predicted_class)\n"
   ]
  },
  {
   "cell_type": "code",
   "execution_count": 12,
   "id": "315303d4",
   "metadata": {},
   "outputs": [
    {
     "name": "stderr",
     "output_type": "stream",
     "text": [
      "C:\\Users\\rajes\\anaconda3\\Lib\\site-packages\\keras\\src\\engine\\training.py:3079: UserWarning: You are saving your model as an HDF5 file via `model.save()`. This file format is considered legacy. We recommend using instead the native Keras format, e.g. `model.save('my_model.keras')`.\n",
      "  saving_api.save_model(\n"
     ]
    }
   ],
   "source": [
    "model.save(\"my_model.h5\")"
   ]
  },
  {
   "cell_type": "code",
   "execution_count": null,
   "id": "758ba0b7",
   "metadata": {},
   "outputs": [],
   "source": []
  }
 ],
 "metadata": {
  "kernelspec": {
   "display_name": "Python 3 (ipykernel)",
   "language": "python",
   "name": "python3"
  },
  "language_info": {
   "codemirror_mode": {
    "name": "ipython",
    "version": 3
   },
   "file_extension": ".py",
   "mimetype": "text/x-python",
   "name": "python",
   "nbconvert_exporter": "python",
   "pygments_lexer": "ipython3",
   "version": "3.11.4"
  }
 },
 "nbformat": 4,
 "nbformat_minor": 5
}
